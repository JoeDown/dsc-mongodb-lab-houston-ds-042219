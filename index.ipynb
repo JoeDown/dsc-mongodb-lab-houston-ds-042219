{
 "cells": [
  {
   "cell_type": "markdown",
   "metadata": {},
   "source": [
    "# MongoDB - Lab\n",
    "\n",
    "## Introduction\n",
    "\n",
    "In this lesson, we'll get some hands-on experience with MongoDB!\n",
    "\n",
    "## Objectives\n",
    "You will be able to:\n",
    "-  Use MongoDB, a popular NoSQL database\n",
    "-  Create, Read, Update, and Delete Information in MongoDB\n",
    "\n",
    "## Getting Started\n",
    "\n",
    "To begin this lab, make sure that you start up the mongoDB server in your terminal first!\n",
    "\n",
    "\n",
    "## Connecting to the MongoDB Database\n",
    "\n",
    "In the cell below, import the appropriate library and connect to the mongoDB server. Create a new database called `'lab_db'`."
   ]
  },
  {
   "cell_type": "code",
   "execution_count": 22,
   "metadata": {},
   "outputs": [],
   "source": [
    "import pymongo"
   ]
  },
  {
   "cell_type": "code",
   "execution_count": 23,
   "metadata": {},
   "outputs": [],
   "source": [
    "myclient = pymongo.MongoClient(\"mongodb://127.0.0.1:27017/\")\n",
    "lab_db = myclient['lab_db']"
   ]
  },
  {
   "cell_type": "code",
   "execution_count": 24,
   "metadata": {},
   "outputs": [
    {
     "name": "stdout",
     "output_type": "stream",
     "text": [
      "['admin', 'animal_shelter_db', 'config', 'local']\n"
     ]
    }
   ],
   "source": [
    "print(myclient.list_database_names())"
   ]
  },
  {
   "cell_type": "code",
   "execution_count": 25,
   "metadata": {},
   "outputs": [],
   "source": [
    "lab_collection = lab_db['lab_collection']"
   ]
  },
  {
   "cell_type": "markdown",
   "metadata": {},
   "source": [
    "## Creating a Collection\n",
    "\n",
    "Now, create a collection called `'lab_collection'` inside `'lab_db'`."
   ]
  },
  {
   "cell_type": "markdown",
   "metadata": {},
   "source": [
    "## Adding Some Data\n",
    "\n",
    "Now, we're going to add some example records into our database. In the cells below, create dictionary representations of the following customer records:\n",
    "\n",
    "\n",
    "|     Name     |            Email           |  Mailing_Address  | Balance |                         Notes                         |\n",
    "|:------------:|:--------------------------:|:-----------------:|:-------:|:-----------------------------------------------------:|\n",
    "|  John Smith  |    j.smith@thesmiths.com   | 123 mulberry lane |   0.0   |    Called technical support, issue not yet resolved   |\n",
    "|  Jane Smith  |  jane_smith@thesmiths.com  |         Null          |  25.00  |                   Null                                    |\n",
    "|  Adam Enbar  | adam@theflatironschool.com |    11 Broadway    |  14.99  |           Set up on recurring billing cycle           |\n",
    "| Avi Flombaum |  avi@theflatironschool.com |    11 Broadway    |   0.0   |                   Null                                    |\n",
    "|   Steven S.  |     steven.s@gmail.net     |         Null          |  -20.23 | Refunded for overpayment due to price match guarantee |\n",
    "\n",
    "\n",
    "Your first challenge is to take all of the data in the table above and create the corresponding documents and add then to our mongo database. Note that fields that contain 'Null' should not be included in the document (recall that since mongo is schema-less, each document can be different). \n",
    "\n",
    "Create the documents from the table listed above, and then use `insert_many()` to insert them into the collection."
   ]
  },
  {
   "cell_type": "code",
   "execution_count": 26,
   "metadata": {},
   "outputs": [],
   "source": [
    "customer_1 = {'name': 'John Smith', 'email': 'j.smith@thesmiths.com', 'balance': 0.0, 'notes': 'Called technical support, issue not yet resolved'}\n",
    "customer_2 = {'name': 'Jane Smith', 'email': 'jane_smith@themsiths.co', 'balance': 0.0, 'notes': 'Called'}\n",
    "customer_3 = {'name': 'Jane Doe2', 'address': '234 elm street', 'age': 78}\n",
    "customer_4 = {'name': 'Jane Doe', 'address': '2345 elmer street', 'age': 17}\n",
    "customer_5 = {'name': 'Santa Claus', 'address': 'The North Pole', 'age': 547}\n",
    "customer_6 = {'name': 'John Doe jr.', 'address': '', 'age': 0.5}\n",
    "\n",
    "all_records = [customer_1, customer_2, customer_3, customer_4, customer_5, customer_6]\n",
    "\n",
    "insertion_results = lab_collection.insert_many(all_records)\n",
    "\n"
   ]
  },
  {
   "cell_type": "markdown",
   "metadata": {},
   "source": [
    "Now, access the appropriate attribute from the results object returned from the insertion to see the unique IDs for each record inserted, so that we can confirm each were inserted correctly. "
   ]
  },
  {
   "cell_type": "code",
   "execution_count": 27,
   "metadata": {},
   "outputs": [
    {
     "name": "stdout",
     "output_type": "stream",
     "text": [
      "{'_id': ObjectId('5cdc89104adc5bc53e500adb'), 'name': 'John Smith', 'email': 'j.smith@thesmiths.com', 'balance': 0.0, 'notes': 'Called technical support, issue not yet resolved'}\n",
      "{'_id': ObjectId('5cdc89104adc5bc53e500adc'), 'name': 'Jane Smith', 'email': 'jane_smith@themsiths.co', 'balance': 0.0, 'notes': 'Called'}\n",
      "{'_id': ObjectId('5cdc89104adc5bc53e500add'), 'name': 'Jane Doe2', 'address': '234 elm street', 'age': 78}\n",
      "{'_id': ObjectId('5cdc89104adc5bc53e500ade'), 'name': 'Jane Doe', 'address': '2345 elmer street', 'age': 17}\n",
      "{'_id': ObjectId('5cdc89104adc5bc53e500adf'), 'name': 'Santa Claus', 'address': 'The North Pole', 'age': 547}\n",
      "{'_id': ObjectId('5cdc89104adc5bc53e500ae0'), 'name': 'John Doe jr.', 'address': '', 'age': 0.5}\n"
     ]
    }
   ],
   "source": [
    "query = lab_collection.find({})\n",
    "for q in query:\n",
    "    print(q)"
   ]
  },
  {
   "cell_type": "markdown",
   "metadata": {},
   "source": [
    "## Querying and Filtering\n",
    "\n",
    "In the cell below, return the name and email address for every customer record. Then, print every item from the query to show that it worked correctly. "
   ]
  },
  {
   "cell_type": "code",
   "execution_count": 29,
   "metadata": {},
   "outputs": [
    {
     "name": "stdout",
     "output_type": "stream",
     "text": [
      "{'_id': ObjectId('5cdc89104adc5bc53e500adb'), 'name': 'John Smith'}\n",
      "{'_id': ObjectId('5cdc89104adc5bc53e500adc'), 'name': 'Jane Smith'}\n",
      "{'_id': ObjectId('5cdc89104adc5bc53e500add'), 'name': 'Jane Doe2', 'address': '234 elm street'}\n",
      "{'_id': ObjectId('5cdc89104adc5bc53e500ade'), 'name': 'Jane Doe', 'address': '2345 elmer street'}\n",
      "{'_id': ObjectId('5cdc89104adc5bc53e500adf'), 'name': 'Santa Claus', 'address': 'The North Pole'}\n",
      "{'_id': ObjectId('5cdc89104adc5bc53e500ae0'), 'name': 'John Doe jr.', 'address': ''}\n"
     ]
    }
   ],
   "source": [
    "query_2 = lab_collection.find({}, {'_id': 1, 'name': 1, 'address': 1})\n",
    "for item in query_2:\n",
    "    print(item)\n"
   ]
  },
  {
   "cell_type": "markdown",
   "metadata": {},
   "source": [
    "Great! Now, let's write a query that gets an individual record based on a stored key-value pair a document contains. \n",
    "\n",
    "In the cell below, write a query to get the record for John Smith by using his name. Then, print the results of the query to demonstrate that it worked correctly.  "
   ]
  },
  {
   "cell_type": "code",
   "execution_count": 38,
   "metadata": {
    "scrolled": true
   },
   "outputs": [
    {
     "name": "stdout",
     "output_type": "stream",
     "text": [
      "{'_id': ObjectId('5cdc89104adc5bc53e500adb'), 'name': 'John Smith', 'email': 'j.smith@thesmiths.com', 'balance': 0.0, 'notes': 'Called technical support, issue not yet resolved'}\n"
     ]
    },
    {
     "data": {
      "text/plain": [
       "<bound method Cursor.next of <pymongo.cursor.Cursor object at 0x110426518>>"
      ]
     },
     "execution_count": 38,
     "metadata": {},
     "output_type": "execute_result"
    }
   ],
   "source": [
    "query_3 = lab_collection.find({'name':'John Smith'})\n",
    "for item in query_3:\n",
    "    print(item)\n",
    "    \n",
    "    \n"
   ]
  },
  {
   "cell_type": "code",
   "execution_count": 40,
   "metadata": {},
   "outputs": [
    {
     "name": "stdout",
     "output_type": "stream",
     "text": [
      "<bound method Cursor.next of <pymongo.cursor.Cursor object at 0x110426518>>\n"
     ]
    }
   ],
   "source": [
    "print(query_3.next)"
   ]
  },
  {
   "cell_type": "code",
   "execution_count": null,
   "metadata": {},
   "outputs": [],
   "source": []
  },
  {
   "cell_type": "markdown",
   "metadata": {},
   "source": [
    "Great! Now, write a query to get the names, email addresses, and balances for customers that have a balance greater than 0. Use a modifier to do this. \n",
    "\n",
    "**_HINT_**: In the query below, you'll be passing in two separate dictionaries. The first one defines the logic of the query, while the second tells which fields we want returned. "
   ]
  },
  {
   "cell_type": "code",
   "execution_count": 43,
   "metadata": {},
   "outputs": [],
   "source": [
    "query_4 = lab_collection.find({'balance':{\"$gt\": 0}})\n",
    "for i in query_4:\n",
    "    print(i)"
   ]
  },
  {
   "cell_type": "code",
   "execution_count": 44,
   "metadata": {},
   "outputs": [
    {
     "name": "stdout",
     "output_type": "stream",
     "text": [
      "{'_id': ObjectId('5cdc89104adc5bc53e500add'), 'name': 'Jane Doe2', 'address': '234 elm street', 'age': 78}\n",
      "{'_id': ObjectId('5cdc89104adc5bc53e500ade'), 'name': 'Jane Doe', 'address': '2345 elmer street', 'age': 17}\n",
      "{'_id': ObjectId('5cdc89104adc5bc53e500adf'), 'name': 'Santa Claus', 'address': 'The North Pole', 'age': 547}\n"
     ]
    }
   ],
   "source": [
    "query_5 = lab_collection.find({'age':{\"$gt\": 10}})\n",
    "for i in query_5:\n",
    "    print(i)"
   ]
  },
  {
   "cell_type": "markdown",
   "metadata": {},
   "source": [
    "## Updating a Record\n",
    "\n",
    "Now, let's update some records. In the cell below. set the mailing address for Steven S. to `'367 55th St., apt 2A'`."
   ]
  },
  {
   "cell_type": "code",
   "execution_count": null,
   "metadata": {},
   "outputs": [],
   "source": [
    "record_to_update = {'name' : 'John Doe'}\n",
    "update_1 = {'$set': {'age': 29}}\n",
    "update_2 = {'$set': {'birthday': '02/20/1986'}}\n",
    "\n",
    "mycollection.update_one(record_to_update, update_1)\n",
    "mycollection.update_one(record_to_update, update_2)\n",
    "query_6 = mycollection.find({'name': 'John Doe'})\n",
    "for item in query_6:\n",
    "    print(item)"
   ]
  },
  {
   "cell_type": "code",
   "execution_count": 46,
   "metadata": {},
   "outputs": [
    {
     "data": {
      "text/plain": [
       "<pymongo.results.UpdateResult at 0x10ff61948>"
      ]
     },
     "execution_count": 46,
     "metadata": {},
     "output_type": "execute_result"
    }
   ],
   "source": [
    "record_to_update_1 = {'name':'Santa Claus'}\n",
    "update_1 = {'$set': {'age': 35}}\n",
    "update_2 = {'$set': {'email': 'santa@clause.com'}}\n",
    "\n",
    "lab_collection.update_one(record_to_update_1, update_1)\n",
    "lab_collection.update_one(record_to_update_1, update_2)\n"
   ]
  },
  {
   "cell_type": "markdown",
   "metadata": {},
   "source": [
    "Now, write a query to check that the update worked for this document in the cell below. "
   ]
  },
  {
   "cell_type": "code",
   "execution_count": 47,
   "metadata": {},
   "outputs": [
    {
     "name": "stdout",
     "output_type": "stream",
     "text": [
      "{'_id': ObjectId('5cdc89104adc5bc53e500adb'), 'name': 'John Smith', 'email': 'j.smith@thesmiths.com', 'balance': 0.0, 'notes': 'Called technical support, issue not yet resolved'}\n",
      "{'_id': ObjectId('5cdc89104adc5bc53e500adc'), 'name': 'Jane Smith', 'email': 'jane_smith@themsiths.co', 'balance': 0.0, 'notes': 'Called'}\n",
      "{'_id': ObjectId('5cdc89104adc5bc53e500add'), 'name': 'Jane Doe2', 'address': '234 elm street', 'age': 78}\n",
      "{'_id': ObjectId('5cdc89104adc5bc53e500ade'), 'name': 'Jane Doe', 'address': '2345 elmer street', 'age': 17}\n",
      "{'_id': ObjectId('5cdc89104adc5bc53e500adf'), 'name': 'Santa Claus', 'address': 'The North Pole', 'age': 35, 'email': 'santa@clause.com'}\n",
      "{'_id': ObjectId('5cdc89104adc5bc53e500ae0'), 'name': 'John Doe jr.', 'address': '', 'age': 0.5}\n"
     ]
    }
   ],
   "source": [
    "query_5 = lab_collection.find({})\n",
    "for i in query_5:\n",
    "    print(i)\n"
   ]
  },
  {
   "cell_type": "code",
   "execution_count": 50,
   "metadata": {},
   "outputs": [],
   "source": [
    "names_list = ['John Smith','Jane Smith', 'Jane Doe2', 'Jane Doe', 'Santa Clause', 'John Doe jr.']\n",
    "birthdays_list = ['02/20/1986','07/07/1983','12/02/1982','04/17/1983','08/30/1991', '09/30/1992']\n",
    "\n",
    "def update_birthdays(names, birthdays):\n",
    "    for i, name in enumerate(names_list):\n",
    "        record_to_upddate = {'name': name}\n",
    "        update = {'$set' : {'birthday': birthdays_list[i]}}\n",
    "        \n",
    "        lab_collection.update_one(record_to_upddate, update)        \n",
    "        \n",
    "update_birthdays(names_list, birthdays_list)"
   ]
  },
  {
   "cell_type": "markdown",
   "metadata": {},
   "source": [
    "Now, write a query to check your work and see that the birthdays were added correctly."
   ]
  },
  {
   "cell_type": "code",
   "execution_count": null,
   "metadata": {},
   "outputs": [],
   "source": [
    "query_6 = lab_collection.find({})\n",
    "\n",
    "for i in query_6\n",
    "    "
   ]
  },
  {
   "cell_type": "markdown",
   "metadata": {},
   "source": [
    "Great! It looks like the birthdays have been successfully added to every record correctly!\n",
    "\n",
    "## Summary\n",
    "\n",
    "In this lesson, we got some hands-on practice working with MongoDB!"
   ]
  }
 ],
 "metadata": {
  "kernelspec": {
   "display_name": "Python 3",
   "language": "python",
   "name": "python3"
  },
  "language_info": {
   "codemirror_mode": {
    "name": "ipython",
    "version": 3
   },
   "file_extension": ".py",
   "mimetype": "text/x-python",
   "name": "python",
   "nbconvert_exporter": "python",
   "pygments_lexer": "ipython3",
   "version": "3.6.8"
  }
 },
 "nbformat": 4,
 "nbformat_minor": 2
}
